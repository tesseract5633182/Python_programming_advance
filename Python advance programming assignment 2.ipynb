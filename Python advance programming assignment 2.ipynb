{
 "cells": [
  {
   "cell_type": "markdown",
   "metadata": {},
   "source": [
    "Question bank : https://drive.google.com/file/d/1tX6u1TzQhvcG1_R-6LB2r5PMKCfDpb35/view"
   ]
  },
  {
   "cell_type": "markdown",
   "metadata": {},
   "source": [
    "<b>Q.1 Write a function that takes a positive integer num and calculates how many\n",
    "dots exist in a pentagonal shape around the center dot on the Nth iteration.\n",
    "In the image below you can see the first iteration is only a single dot. On the\n",
    "second, there are 6 dots. On the third, there are 16 dots, and on the fourth\n",
    "there are 31 dots."
   ]
  },
  {
   "cell_type": "code",
   "execution_count": 1,
   "metadata": {},
   "outputs": [],
   "source": [
    "def pentagonal(iteration):\n",
    "    try:\n",
    "        return (5*iteration*iteration-5* iteration+2)//2\n",
    "    except Exception as e:\n",
    "        return e"
   ]
  },
  {
   "cell_type": "code",
   "execution_count": 2,
   "metadata": {},
   "outputs": [
    {
     "data": {
      "text/plain": [
       "141"
      ]
     },
     "execution_count": 2,
     "metadata": {},
     "output_type": "execute_result"
    }
   ],
   "source": [
    "pentagonal(8)"
   ]
  },
  {
   "cell_type": "markdown",
   "metadata": {},
   "source": [
    "<b>Q.2 Make a function that encrypts a given input with these steps:\n",
    "Input: &quot;apple&quot;\n",
    "Step 1: Reverse the input: &quot;elppa&quot;\n",
    "Step 2: Replace all vowels using the following chart:"
   ]
  },
  {
   "cell_type": "code",
   "execution_count": 3,
   "metadata": {},
   "outputs": [],
   "source": [
    "import re\n",
    "def encrypt(word):\n",
    "    try:\n",
    "        dict_ = {\"a\":0,\"e\":1,\"i\":2,\"o\":2,\"u\":3}\n",
    "        return \"\".join([str(dict_[i]) if i in dict_.keys() else i for i in word[::-1]])+\"aca\"\n",
    "    except Exception as e:\n",
    "        return e"
   ]
  },
  {
   "cell_type": "code",
   "execution_count": 4,
   "metadata": {},
   "outputs": [
    {
     "data": {
      "text/plain": [
       "'1lpp0aca'"
      ]
     },
     "execution_count": 4,
     "metadata": {},
     "output_type": "execute_result"
    }
   ],
   "source": [
    "encrypt(\"apple\")"
   ]
  },
  {
   "cell_type": "markdown",
   "metadata": {},
   "source": [
    "<b>Q.3 Given the month and year as numbers, return whether that month contains\n",
    "a Friday 13th.(i.e You can check Python&#39;s datetime module)"
   ]
  },
  {
   "cell_type": "code",
   "execution_count": 5,
   "metadata": {},
   "outputs": [],
   "source": [
    "import datetime\n",
    "\n",
    "def has_friday_13th(month, year):\n",
    "    try:\n",
    "        if datetime.datetime.strptime('13 '+' '+str(month)+' '+str(year), '%d %m %Y').weekday()==4:\n",
    "            return True\n",
    "        else:\n",
    "            return False\n",
    "    except Exception as e:\n",
    "        return e"
   ]
  },
  {
   "cell_type": "code",
   "execution_count": 6,
   "metadata": {},
   "outputs": [
    {
     "data": {
      "text/plain": [
       "True"
      ]
     },
     "execution_count": 6,
     "metadata": {},
     "output_type": "execute_result"
    }
   ],
   "source": [
    "has_friday_13th(3,2020)"
   ]
  },
  {
   "cell_type": "markdown",
   "metadata": {},
   "source": [
    "<b>Q.4 Write a regular expression that will help us count how many bad cookies\n",
    "are produced every day. You must use RegEx negative lookbehind."
   ]
  },
  {
   "cell_type": "code",
   "execution_count": 7,
   "metadata": {},
   "outputs": [],
   "source": [
    "import re"
   ]
  },
  {
   "cell_type": "code",
   "execution_count": 8,
   "metadata": {},
   "outputs": [],
   "source": [
    "def findBadCookie(lst):\n",
    "    try:\n",
    "        return len(re.findall('(?<!good\\s)cookie',(','.join(lst))))\n",
    "    except Exception as e:\n",
    "        return e"
   ]
  },
  {
   "cell_type": "code",
   "execution_count": 9,
   "metadata": {},
   "outputs": [
    {
     "data": {
      "text/plain": [
       "3"
      ]
     },
     "execution_count": 9,
     "metadata": {},
     "output_type": "execute_result"
    }
   ],
   "source": [
    "lst = ['bad cookie','good cookie','bad cookie','bad cookie','good cookie']\n",
    "findBadCookie(lst)"
   ]
  },
  {
   "cell_type": "markdown",
   "metadata": {},
   "source": [
    "<b>Q.5 Given a list of words in the singular form, return a set of those words in the\n",
    "plural form if they appear more than once in the list."
   ]
  },
  {
   "cell_type": "code",
   "execution_count": 10,
   "metadata": {},
   "outputs": [],
   "source": [
    "def pluralize(lst):\n",
    "    try:\n",
    "        lst1 = []\n",
    "        for i in set(lst):\n",
    "            if lst.count(i)>1:\n",
    "                lst1.append(i+\"s\")\n",
    "            else:\n",
    "                lst1.append(i)\n",
    "        return set(lst1)        \n",
    "    except Exception as e:\n",
    "        return e"
   ]
  },
  {
   "cell_type": "code",
   "execution_count": 11,
   "metadata": {},
   "outputs": [
    {
     "data": {
      "text/plain": [
       "{'cows', 'pig'}"
      ]
     },
     "execution_count": 11,
     "metadata": {},
     "output_type": "execute_result"
    }
   ],
   "source": [
    "lst = ['cow','pig','cow','cow']\n",
    "pluralize(lst)"
   ]
  },
  {
   "cell_type": "code",
   "execution_count": null,
   "metadata": {},
   "outputs": [],
   "source": []
  }
 ],
 "metadata": {
  "kernelspec": {
   "display_name": "Python 3 (ipykernel)",
   "language": "python",
   "name": "python3"
  },
  "language_info": {
   "codemirror_mode": {
    "name": "ipython",
    "version": 3
   },
   "file_extension": ".py",
   "mimetype": "text/x-python",
   "name": "python",
   "nbconvert_exporter": "python",
   "pygments_lexer": "ipython3",
   "version": "3.9.7"
  }
 },
 "nbformat": 4,
 "nbformat_minor": 2
}
