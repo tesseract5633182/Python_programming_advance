{
 "cells": [
  {
   "cell_type": "markdown",
   "id": "a0a48273",
   "metadata": {},
   "source": [
    "Question Bank : https://drive.google.com/file/d/15amzmSZDD4dTJOk0v8WIk6izjiAAemHN/view"
   ]
  },
  {
   "cell_type": "markdown",
   "id": "a5f84d54",
   "metadata": {},
   "source": [
    "<b>Q.1 Create a function to perform basic arithmetic operations that includes\n",
    "addition, subtraction, multiplication and division on a string number (e.g. &quot;12 +\n",
    "24&quot; or &quot;23 - 21&quot; or &quot;12 // 12&quot; or &quot;12 * 21&quot;)."
   ]
  },
  {
   "cell_type": "code",
   "execution_count": 9,
   "id": "9d2a1fc8",
   "metadata": {},
   "outputs": [],
   "source": [
    "def arithmeticOperations(equation):\n",
    "    values = equation.split(\" \")\n",
    "    if(values[1]==\"+\"):\n",
    "        return int(values[0])+int(values[2])\n",
    "    if(values[1]==\"-\"):\n",
    "        return int(values[0])-int(values[2])\n",
    "    if(values[1]==\"*\"):\n",
    "        return int(values[0])*int(values[2])\n",
    "    if(values[1]==\"//\"):\n",
    "        if(values[2]!=\"0\"):\n",
    "            return int(values[0])/int(values[2])\n",
    "        else:\n",
    "            return -1"
   ]
  },
  {
   "cell_type": "code",
   "execution_count": 11,
   "id": "e45a46b0",
   "metadata": {},
   "outputs": [
    {
     "name": "stdout",
     "output_type": "stream",
     "text": [
      "1.0\n",
      "-1\n",
      "24\n"
     ]
    }
   ],
   "source": [
    "print(arithmeticOperations(\"12 // 12\"))\n",
    "print(arithmeticOperations(\"12 // 0\"))\n",
    "print(arithmeticOperations(\"12 + 12\"))"
   ]
  },
  {
   "cell_type": "markdown",
   "id": "d53a59b8",
   "metadata": {},
   "source": [
    "<b>Q.2 Write a function that takes the coordinates of three points in the form of a\n",
    "2d array and returns the perimeter of the triangle. The given points are the\n",
    "vertices of a triangle on a two-dimensional plane."
   ]
  },
  {
   "cell_type": "code",
   "execution_count": 19,
   "id": "82180748",
   "metadata": {},
   "outputs": [],
   "source": [
    "import numpy as np\n",
    "\n",
    "def perimeter(lst):\n",
    "    lst = np.array(lst)\n",
    "    try:\n",
    "        peri = np.linalg.norm(lst[0] - lst[1])+np.linalg.norm(lst[1] - lst[2])+np.linalg.norm(lst[2] - lst[0])\n",
    "        return (peri)\n",
    "    except Exception as e:\n",
    "        return e"
   ]
  },
  {
   "cell_type": "code",
   "execution_count": 20,
   "id": "5d7bb77d",
   "metadata": {},
   "outputs": [
    {
     "data": {
      "text/plain": [
       "47.07918859608948"
      ]
     },
     "execution_count": 20,
     "metadata": {},
     "output_type": "execute_result"
    }
   ],
   "source": [
    "perimeter([[15,7],[5,22],[11,1]])"
   ]
  },
  {
   "cell_type": "markdown",
   "id": "8f8afb99",
   "metadata": {},
   "source": [
    "<b>Q.3 A city skyline can be represented as a 2-D list with 1s representing\n",
    "buildings. In the example below, the height of the tallest building is 4 (second-\n",
    "most right column)."
   ]
  },
  {
   "cell_type": "code",
   "execution_count": 21,
   "id": "999c0b04",
   "metadata": {},
   "outputs": [],
   "source": [
    "def tallest_skyscraper(lst):\n",
    "    tallest = 0\n",
    "    try:\n",
    "        for i in range(0,len(lst)):\n",
    "            if(1 in lst[len(lst)-i-1]):\n",
    "                tallest+=1\n",
    "            else:\n",
    "                break\n",
    "        return tallest\n",
    "    except Exception as e:\n",
    "        return e\n",
    "                "
   ]
  },
  {
   "cell_type": "code",
   "execution_count": 23,
   "id": "635d8f4b",
   "metadata": {},
   "outputs": [
    {
     "data": {
      "text/plain": [
       "4"
      ]
     },
     "execution_count": 23,
     "metadata": {},
     "output_type": "execute_result"
    }
   ],
   "source": [
    "tallest_skyscraper([\n",
    "[0, 1, 0, 0],\n",
    "[0, 1, 0, 0],\n",
    "[0, 1, 1, 0],\n",
    "[1, 1, 1, 1]\n",
    "])"
   ]
  },
  {
   "cell_type": "markdown",
   "id": "463ecbee",
   "metadata": {},
   "source": [
    "<b>Q.4 A financial institution provides professional services to banks and claims\n",
    "charges from the customers based on the number of man-days provided.\n",
    "Internally, it has set a scheme to motivate and reward staff to meet and\n",
    "exceed targeted billable utilization and revenues by paying a bonus for each\n",
    "day claimed from customers in excess of a threshold target.\n",
    "This quarterly scheme is calculated with a threshold target of 32 days per\n",
    "quarter, and the incentive payment for each billable day in excess of such\n",
    "threshold target is shown as follows:"
   ]
  },
  {
   "cell_type": "code",
   "execution_count": 28,
   "id": "4748f84d",
   "metadata": {},
   "outputs": [],
   "source": [
    "def bonus(days):\n",
    "    try:\n",
    "        dict_bonus = {'less_than_41_days':325,'less_than_49_days':550,'more_than_48_days':600}\n",
    "        if(days<33):\n",
    "            return 0\n",
    "        else:\n",
    "            if(days<41):\n",
    "                return days-32*dict_bonus[\"less_than_41_days\"]\n",
    "            if(days<49):\n",
    "                return 8*dict_bonus[\"less_than_41_days\"]+(days-40)*dict_bonus[\"less_than_49_days\"]\n",
    "            else:\n",
    "                return 8*dict_bonus[\"less_than_41_days\"]+8*dict_bonus[\"less_than_49_days\"]+(days-48)*dict_bonus[\"more_than_48_days\"]\n",
    "    except Exception as e:\n",
    "        return e"
   ]
  },
  {
   "cell_type": "code",
   "execution_count": 29,
   "id": "91f12869",
   "metadata": {},
   "outputs": [
    {
     "data": {
      "text/plain": [
       "8200"
      ]
     },
     "execution_count": 29,
     "metadata": {},
     "output_type": "execute_result"
    }
   ],
   "source": [
    "bonus(50)"
   ]
  },
  {
   "cell_type": "markdown",
   "id": "e584e717",
   "metadata": {},
   "source": [
    "<b>Q.5 A number is said to be Disarium if the sum of its digits raised to their\n",
    "respective positions is the number itself.\n",
    "Create a function that determines whether a number is a Disarium or not."
   ]
  },
  {
   "cell_type": "code",
   "execution_count": 32,
   "id": "74152ea4",
   "metadata": {},
   "outputs": [],
   "source": [
    "def is_disarium(number):\n",
    "    try:\n",
    "        index = 1\n",
    "        disarium = 0\n",
    "        digits = list(str(number))\n",
    "        for i in digits:\n",
    "            disarium = disarium + int(i)**index\n",
    "            index+=1\n",
    "        if(disarium==number):\n",
    "            return True\n",
    "        else:\n",
    "            return False\n",
    "    except Exception as e:\n",
    "        return e"
   ]
  },
  {
   "cell_type": "code",
   "execution_count": 34,
   "id": "b68d5553",
   "metadata": {},
   "outputs": [
    {
     "name": "stdout",
     "output_type": "stream",
     "text": [
      "True\n",
      "False\n"
     ]
    }
   ],
   "source": [
    "print(is_disarium(518))\n",
    "print(is_disarium(75))"
   ]
  }
 ],
 "metadata": {
  "kernelspec": {
   "display_name": "Python 3 (ipykernel)",
   "language": "python",
   "name": "python3"
  },
  "language_info": {
   "codemirror_mode": {
    "name": "ipython",
    "version": 3
   },
   "file_extension": ".py",
   "mimetype": "text/x-python",
   "name": "python",
   "nbconvert_exporter": "python",
   "pygments_lexer": "ipython3",
   "version": "3.9.7"
  }
 },
 "nbformat": 4,
 "nbformat_minor": 5
}
