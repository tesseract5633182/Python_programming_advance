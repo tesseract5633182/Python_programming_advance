{
 "cells": [
  {
   "cell_type": "markdown",
   "id": "6a293c71",
   "metadata": {},
   "source": [
    "Question bank : https://drive.google.com/file/d/1M8Hqhh38cyiKxnnvq2Oq3qAoJqPcmBWN/view"
   ]
  },
  {
   "cell_type": "markdown",
   "id": "1f98fdb4",
   "metadata": {},
   "source": [
    "<b>Q.1 Create a function that returns the majority vote in a list. A majority vote is\n",
    "an element that occurs &gt; N/2 times in a list (where N is the length of the list)."
   ]
  },
  {
   "cell_type": "code",
   "execution_count": 26,
   "id": "5dd13941",
   "metadata": {},
   "outputs": [],
   "source": [
    "def majority_vote(list_):\n",
    "    \n",
    "    dict_count = {}\n",
    "    count = 0\n",
    "    \n",
    "    for i in set(list_):\n",
    "        for j in (list_):\n",
    "            if(i==j):\n",
    "                count+=1\n",
    "                dict_count[i] = count\n",
    "        count = 0\n",
    "    seq = tuple(reversed(sorted((dict_count).items())))\n",
    "    if(seq[0][1]==seq[1][1]):\n",
    "        return \"None\"\n",
    "    else:\n",
    "        return seq[0][0]"
   ]
  },
  {
   "cell_type": "code",
   "execution_count": 28,
   "id": "f8a08acb",
   "metadata": {},
   "outputs": [
    {
     "name": "stdout",
     "output_type": "stream",
     "text": [
      "B\n",
      "None\n"
     ]
    }
   ],
   "source": [
    "print(majority_vote(['A','A','B','B','B']))\n",
    "print(majority_vote(['A','A','B','B']))"
   ]
  },
  {
   "cell_type": "markdown",
   "id": "9ad0ab10",
   "metadata": {},
   "source": [
    "<b>Q.2 Create a function that takes a string txt and censors any word from a given\n",
    "list lst. The text removed must be replaced by the given character char."
   ]
  },
  {
   "cell_type": "code",
   "execution_count": 40,
   "id": "03c1fb75",
   "metadata": {},
   "outputs": [],
   "source": [
    "string = 'Today is a Wednesday!'\n",
    "lst = ['Today','a']\n",
    "rep = '-'\n",
    "\n",
    "def censor_string(string, lst, rep):\n",
    "    censor_string = []\n",
    "    for i in string.split(\" \"):\n",
    "        if(i in lst):\n",
    "            censor_string.append(len(i)*rep)\n",
    "        else:\n",
    "            censor_string.append(i)\n",
    "    return \" \".join(censor_string)        "
   ]
  },
  {
   "cell_type": "code",
   "execution_count": 44,
   "id": "ef8be3cd",
   "metadata": {},
   "outputs": [
    {
     "name": "stdout",
     "output_type": "stream",
     "text": [
      "----- is - Wednesday!\n",
      "The *** jumped **** the moon.\n"
     ]
    }
   ],
   "source": [
    "print(censor_string('Today is a Wednesday!', ['Today','a'], '-'))\n",
    "print(censor_string('The cow jumped over the moon.', ['cow','over'], '*'))"
   ]
  },
  {
   "cell_type": "markdown",
   "id": "3bbe7374",
   "metadata": {},
   "source": [
    "<b>Q.3 In mathematics a Polydivisible Number (or magic number) is a number in a\n",
    "given number base with digits abcde... that has the following properties:\n",
    "- Its first digit a is not 0.\n",
    "- The number formed by its first two digits ab is a multiple of 2.\n",
    "- The number formed by its first three digits abc is a multiple of 3.\n",
    "- The number formed by its first four digits abcd is a multiple of 4.\n",
    "Create a function which takes an integer n and returns True if the given\n",
    "number is a Polydivisible Number and False otherwise."
   ]
  },
  {
   "cell_type": "code",
   "execution_count": 74,
   "id": "ac0f298c",
   "metadata": {},
   "outputs": [],
   "source": [
    "def is_polydivisible(num):\n",
    "    num = str(num)\n",
    "    for i in range(1,len(num)):\n",
    "        if((int(num[0:i])%(i))==0):\n",
    "            if(i==(len(num)-1)):\n",
    "                return True\n",
    "        else:\n",
    "            return False"
   ]
  },
  {
   "cell_type": "code",
   "execution_count": 76,
   "id": "a2d05378",
   "metadata": {},
   "outputs": [
    {
     "name": "stdout",
     "output_type": "stream",
     "text": [
      "True\n",
      "False\n"
     ]
    }
   ],
   "source": [
    "print(is_polydivisible(1232))\n",
    "print(is_polydivisible(123220))"
   ]
  },
  {
   "cell_type": "markdown",
   "id": "fb2d93bc",
   "metadata": {},
   "source": [
    "<b>Q.4 Create a function that takes a list of numbers and returns the sum of all\n",
    "prime numbers in the list."
   ]
  },
  {
   "cell_type": "code",
   "execution_count": 86,
   "id": "7d736e4b",
   "metadata": {},
   "outputs": [],
   "source": [
    "def sum_primes(lst):\n",
    "    def generate_prime():\n",
    "        prime = []\n",
    "        for i in range(0, len(lst)):\n",
    "            if i > 1:\n",
    "                for j in range(2, i):\n",
    "                    if(i % j == 0):\n",
    "                        break\n",
    "                else:\n",
    "                    prime.append((i))\n",
    "        return prime\n",
    "    \n",
    "    sum = 0\n",
    "    try:\n",
    "        if len(lst)==0:\n",
    "            return \"None\"\n",
    "        else:\n",
    "            for i in lst:\n",
    "                if(i in generate_prime()):\n",
    "                    sum = sum + i\n",
    "            return sum\n",
    "    except Exception as e:\n",
    "        return e"
   ]
  },
  {
   "cell_type": "code",
   "execution_count": 87,
   "id": "577e9e30",
   "metadata": {},
   "outputs": [
    {
     "name": "stdout",
     "output_type": "stream",
     "text": [
      "17\n",
      "None\n"
     ]
    }
   ],
   "source": [
    "print(sum_primes([1,2,3,4,5,6,7,8,9,10]))\n",
    "print(sum_primes([]))"
   ]
  },
  {
   "cell_type": "code",
   "execution_count": null,
   "id": "2429d707",
   "metadata": {},
   "outputs": [],
   "source": []
  },
  {
   "cell_type": "code",
   "execution_count": null,
   "id": "e266f63c",
   "metadata": {},
   "outputs": [],
   "source": []
  },
  {
   "cell_type": "code",
   "execution_count": null,
   "id": "f151e200",
   "metadata": {},
   "outputs": [],
   "source": []
  },
  {
   "cell_type": "code",
   "execution_count": null,
   "id": "543c8bac",
   "metadata": {},
   "outputs": [],
   "source": []
  }
 ],
 "metadata": {
  "kernelspec": {
   "display_name": "Python 3 (ipykernel)",
   "language": "python",
   "name": "python3"
  },
  "language_info": {
   "codemirror_mode": {
    "name": "ipython",
    "version": 3
   },
   "file_extension": ".py",
   "mimetype": "text/x-python",
   "name": "python",
   "nbconvert_exporter": "python",
   "pygments_lexer": "ipython3",
   "version": "3.9.7"
  }
 },
 "nbformat": 4,
 "nbformat_minor": 5
}
