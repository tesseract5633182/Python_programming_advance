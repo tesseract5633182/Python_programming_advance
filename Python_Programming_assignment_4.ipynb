{
 "cells": [
  {
   "cell_type": "markdown",
   "id": "529224cb",
   "metadata": {},
   "source": [
    "Question bank : https://drive.google.com/file/d/17NwfzKbPd_0sF4PFt82AXZ9-7DqGQ_IJ/view"
   ]
  },
  {
   "cell_type": "markdown",
   "id": "3d249e9c",
   "metadata": {},
   "source": [
    "<b>Q.1 In mathematics, the Fibonacci numbers, commonly denoted Fn, form a\n",
    "sequence, called the Fibonacci sequence, such that each number is the sum\n",
    "of the two preceding ones, starting from 0 and 1:"
   ]
  },
  {
   "cell_type": "code",
   "execution_count": 1,
   "id": "26d5715a",
   "metadata": {},
   "outputs": [],
   "source": [
    "def fib_fast(n):\n",
    "    fib_values = [0,1]\n",
    "    for i in range(0,n-1):\n",
    "        sum1 = fib_values[-1]+fib_values[-2]\n",
    "        fib_values.append(sum1)\n",
    "    return fib_values[-1]"
   ]
  },
  {
   "cell_type": "code",
   "execution_count": 3,
   "id": "22760c51",
   "metadata": {},
   "outputs": [
    {
     "data": {
      "text/plain": [
       "55"
      ]
     },
     "execution_count": 3,
     "metadata": {},
     "output_type": "execute_result"
    }
   ],
   "source": [
    "fib_fast(10)"
   ]
  },
  {
   "cell_type": "markdown",
   "id": "1933ee8e",
   "metadata": {},
   "source": [
    "<b>Q.2 Create a function that takes a strings characters as ASCII and returns each\n",
    "characters hexadecimal value as a string."
   ]
  },
  {
   "cell_type": "code",
   "execution_count": 11,
   "id": "219bba99",
   "metadata": {},
   "outputs": [],
   "source": [
    "def convert_to_hex(string):\n",
    "    hexa = \"\"\n",
    "    for i in range(len(string)):\n",
    "        ch = string[i]\n",
    "        in1 = ord(ch)\n",
    "        part = hex(in1).lstrip(\"0x\").rstrip(\"L\")\n",
    "        hexa += \" \"+part\n",
    "    return hexa.strip()"
   ]
  },
  {
   "cell_type": "code",
   "execution_count": 13,
   "id": "8a55f540",
   "metadata": {},
   "outputs": [
    {
     "data": {
      "text/plain": [
       "'68 65 6c 6c 6f 20 77 6f 72 6c 64'"
      ]
     },
     "execution_count": 13,
     "metadata": {},
     "output_type": "execute_result"
    }
   ],
   "source": [
    "convert_to_hex(\"hello world\")"
   ]
  },
  {
   "cell_type": "markdown",
   "id": "59824d49",
   "metadata": {},
   "source": [
    "<b>Q.3 Someone has attempted to censor my strings by replacing every vowel\n",
    "with a *, l*k* th*s. Luckily, I&#39;ve been able to find the vowels that were\n",
    "removed.\n",
    "Given a censored string and a string of the censored vowels, return the\n",
    "original uncensored string."
   ]
  },
  {
   "cell_type": "code",
   "execution_count": 21,
   "id": "cc288674",
   "metadata": {},
   "outputs": [],
   "source": [
    "def uncensor(string,vowels):\n",
    "    try:\n",
    "        for i in list(vowels):\n",
    "            string = string.replace(\"*\",i,1)\n",
    "        return string\n",
    "    except Exception as e:\n",
    "        return e"
   ]
  },
  {
   "cell_type": "code",
   "execution_count": 22,
   "id": "3e18fcd2",
   "metadata": {},
   "outputs": [
    {
     "data": {
      "text/plain": [
       "'Where did my vowels go?'"
      ]
     },
     "execution_count": 22,
     "metadata": {},
     "output_type": "execute_result"
    }
   ],
   "source": [
    "uncensor('Wh*r* d*d my v*w*ls g*?','eeioeo')"
   ]
  },
  {
   "cell_type": "markdown",
   "id": "f6a27b96",
   "metadata": {},
   "source": [
    "<b>Q.4 Write a function that takes an IP address and returns the domain name\n",
    "using PTR DNS records."
   ]
  },
  {
   "cell_type": "code",
   "execution_count": 25,
   "id": "2fe1756c",
   "metadata": {},
   "outputs": [],
   "source": [
    "import socket\n",
    "\n",
    "def get_domain(ip):\n",
    "    try:\n",
    "        result=socket.gethostbyaddr(ip)\n",
    "        return list(result)[0]\n",
    "    except Exception as e:\n",
    "        return e\n",
    "    "
   ]
  },
  {
   "cell_type": "code",
   "execution_count": 26,
   "id": "54f87f94",
   "metadata": {
    "scrolled": true
   },
   "outputs": [
    {
     "data": {
      "text/plain": [
       "'dns.google'"
      ]
     },
     "execution_count": 26,
     "metadata": {},
     "output_type": "execute_result"
    }
   ],
   "source": [
    "get_domain('8.8.8.8')"
   ]
  },
  {
   "cell_type": "markdown",
   "id": "2108705c",
   "metadata": {},
   "source": [
    "<b>Q.5 Create a function that takes an integer n and returns the factorial of\n",
    "factorials. See below examples for a better understanding:"
   ]
  },
  {
   "cell_type": "code",
   "execution_count": null,
   "id": "e8acc5c6",
   "metadata": {},
   "outputs": [],
   "source": [
    "def fact_of_fact(n):\n",
    "    for i in range(1,n):\n",
    "        fact = sum([n-1 for i in range(1,n)])"
   ]
  },
  {
   "cell_type": "code",
   "execution_count": null,
   "id": "2fb78d48",
   "metadata": {},
   "outputs": [],
   "source": []
  }
 ],
 "metadata": {
  "kernelspec": {
   "display_name": "Python 3 (ipykernel)",
   "language": "python",
   "name": "python3"
  },
  "language_info": {
   "codemirror_mode": {
    "name": "ipython",
    "version": 3
   },
   "file_extension": ".py",
   "mimetype": "text/x-python",
   "name": "python",
   "nbconvert_exporter": "python",
   "pygments_lexer": "ipython3",
   "version": "3.9.7"
  }
 },
 "nbformat": 4,
 "nbformat_minor": 5
}
